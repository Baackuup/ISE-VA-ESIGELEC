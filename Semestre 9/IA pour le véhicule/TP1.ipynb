## <b>Intelligence Artificielle pour le Véhicule Autonome -> Notebook n°1</b>

#### <b>Exercice 1.1 : Drapeau français</b>

Générer une image du drapeau français, d'une largeur de 200 pixels (et sachant que le rapport hauteur/largeur est 2/3), avec la bonne couleur du bleu, et l'afficher. En utilisant les fonction d'OpenCV, générer un fichier image que vous pourrez télécharger sur votre machine.

